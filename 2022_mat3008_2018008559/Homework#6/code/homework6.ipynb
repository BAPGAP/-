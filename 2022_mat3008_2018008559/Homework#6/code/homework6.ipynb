{
 "cells": [
  {
   "cell_type": "code",
   "execution_count": 26,
   "id": "9b987199",
   "metadata": {
    "scrolled": true
   },
   "outputs": [
    {
     "name": "stdout",
     "output_type": "stream",
     "text": [
      "n =  77\n",
      " x:  -552.8399999999998 \n",
      " y:  -1921.5700000000045 \n",
      " f:  -616.0 \n",
      " g:  -1848.0 \n",
      " xy:  15451.140400000018 \n",
      " xx:  3282454.0570000014 \n",
      " yy:  1363876.0851000005 \n",
      " xf:  3219982.400000001 \n",
      " yf:  17713.04 \n",
      " xg:  12538.560000000005 \n",
      " yg:  1334546.4799999995 \n",
      "\n"
     ]
    }
   ],
   "source": [
    "tmp = []\n",
    "with open(\"fitdata3.dat\", \"r\") as f:\n",
    "    while True:\n",
    "        s = f.readline()\n",
    "        if not s:\n",
    "            break\n",
    "        tmp.append(s.split())\n",
    "n = len(tmp)\n",
    "print(\"n = \",n)\n",
    "x,y,f,g,xy,xx,yy,xf,yf,xg,yg = 0,0,0,0,0,0,0,0,0,0,0\n",
    "for s in tmp:\n",
    "    x_tmp, y_tmp, f_tmp, g_tmp = float(s[0]), float(s[1]),float(s[2]),float(s[3])\n",
    "    x += x_tmp\n",
    "    y += y_tmp\n",
    "    f += f_tmp\n",
    "    g += g_tmp\n",
    "    xy += x_tmp * y_tmp\n",
    "    xx += x_tmp * x_tmp\n",
    "    yy += y_tmp * y_tmp\n",
    "    xf += x_tmp * f_tmp\n",
    "    yf += y_tmp * f_tmp\n",
    "    xg += x_tmp * g_tmp\n",
    "    yg += y_tmp * g_tmp\n",
    "print(\" x: \",x,\"\\n\",\"y: \",y,\"\\n\",\"f: \",f,\"\\n\",\"g: \",g,\"\\n\",\"xy: \",xy,\"\\n\",\"xx: \",xx,\"\\n\",\"yy: \",yy,\"\\n\",\"xf: \",xf,\"\\n\",\"yf: \",yf,\"\\n\",\"xg: \",xg,\"\\n\",\"yg: \",yg,\"\\n\")"
   ]
  },
  {
   "cell_type": "code",
   "execution_count": null,
   "id": "5ed2e41d",
   "metadata": {},
   "outputs": [],
   "source": []
  }
 ],
 "metadata": {
  "kernelspec": {
   "display_name": "Python 3 (ipykernel)",
   "language": "python",
   "name": "python3"
  },
  "language_info": {
   "codemirror_mode": {
    "name": "ipython",
    "version": 3
   },
   "file_extension": ".py",
   "mimetype": "text/x-python",
   "name": "python",
   "nbconvert_exporter": "python",
   "pygments_lexer": "ipython3",
   "version": "3.9.13"
  }
 },
 "nbformat": 4,
 "nbformat_minor": 5
}
