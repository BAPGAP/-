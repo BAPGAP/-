{
 "cells": [
  {
   "cell_type": "code",
   "execution_count": 1,
   "id": "ba9a0a68",
   "metadata": {},
   "outputs": [],
   "source": [
    "from PIL import Image\n",
    "import numpy as np\n",
    "import math\n",
    "\n",
    "im = Image.open(\"simple.jpg\")\n",
    "pix = np.array(im)\n",
    "im.show()\n",
    "h, w = 3067, 5452\n",
    "#resize\n",
    "n, m = 100, 100\n",
    "answer = np.zeros([n, m, 3], dtype=np.uint8)\n",
    "\n",
    "for i in range(n):\n",
    "    for j in range(m):\n",
    "        x, y = (h-1)*i/(n-1), (w-1)*j/(m-1)\n",
    "        x1, x2 = math.floor(x), math.ceil(x)\n",
    "        y1, y2 = math.floor(y), math.ceil(y)\n",
    "        \n",
    "        xx = (x-x1)/(x2-x1) if x1 != x2 else 0\n",
    "        yy = (y-y1)/(y2-y1) if y1 != y2 else 0\n",
    "    \n",
    "        a = pix[x1][y1]\n",
    "        b = pix[x1][y2]\n",
    "        c = pix[x2][y2]\n",
    "        d = pix[x2][y1]\n",
    "        \n",
    "        answer[i][j] = (1-xx)*(1-yy)*a + (1-xx)*yy*b + xx*yy*c + xx*(1-yy)*d\n",
    "        \n",
    "image = Image.fromarray(answer,\"RGB\")\n",
    "image.show()"
   ]
  },
  {
   "cell_type": "code",
   "execution_count": null,
   "id": "306ac8e9",
   "metadata": {},
   "outputs": [],
   "source": []
  }
 ],
 "metadata": {
  "kernelspec": {
   "display_name": "Python 3 (ipykernel)",
   "language": "python",
   "name": "python3"
  },
  "language_info": {
   "codemirror_mode": {
    "name": "ipython",
    "version": 3
   },
   "file_extension": ".py",
   "mimetype": "text/x-python",
   "name": "python",
   "nbconvert_exporter": "python",
   "pygments_lexer": "ipython3",
   "version": "3.9.13"
  }
 },
 "nbformat": 4,
 "nbformat_minor": 5
}
