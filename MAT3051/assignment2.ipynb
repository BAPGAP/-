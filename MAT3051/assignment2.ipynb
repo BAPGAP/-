{
 "cells": [
  {
   "cell_type": "markdown",
   "id": "ea28f243",
   "metadata": {},
   "source": [
    "# 2.3 - 12"
   ]
  },
  {
   "cell_type": "code",
   "execution_count": 31,
   "id": "42cf8422",
   "metadata": {},
   "outputs": [
    {
     "name": "stdout",
     "output_type": "stream",
     "text": [
      "newton's method\n",
      "0 0.750000000\n",
      "1 0.688307246\n",
      "2 0.682048069\n",
      "3 0.681974819\n",
      "\n",
      "secant method\n",
      "0 0.500000000\n",
      "1 1.000000000\n",
      "2 0.600000000\n",
      "3 0.652493171\n",
      "4 0.688222700\n",
      "5 0.681605556\n",
      "6 0.681970521\n",
      "7 0.681974812\n",
      "\n",
      "False Position\n",
      "0 0.500000000 1.000000000\n",
      "1 0.600000000 1.000000000\n",
      "2 0.652493171 1.000000000\n",
      "3 0.672526911 1.000000000\n",
      "4 0.679077093 1.000000000\n",
      "5 0.681098737 1.000000000\n",
      "6 0.681711116 1.000000000\n",
      "7 0.681895545 1.000000000\n",
      "8 0.681950993 1.000000000\n",
      "9 0.681967654 1.000000000\n",
      "10 0.681972659 1.000000000\n",
      "11 0.681974163 1.000000000\n",
      "12 0.681974615 1.000000000\n",
      "13 0.681974750 1.000000000\n"
     ]
    }
   ],
   "source": [
    "import math\n",
    "def f(x):\n",
    "    return x+1-2*math.sin(math.pi*x)\n",
    "\n",
    "def fp(x):\n",
    "    return 1-2*math.pi*math.cos(math.pi*x)\n",
    "\n",
    "def sign(x, y):\n",
    "    if(x > 0 and y > 0):\n",
    "        return True\n",
    "    if(x < 0 and y < 0):\n",
    "        return True\n",
    "    else:\n",
    "        return False\n",
    "\n",
    "x = 0.75\n",
    "real = 0.68197480873864749907\n",
    "\n",
    "print(\"newton's method\")\n",
    "cnt = 0\n",
    "while(abs(real - x) > 1e-7):\n",
    "    print(\"%d %.9f\"%(cnt,x))\n",
    "    cnt += 1\n",
    "    x = x - f(x)/fp(x)\n",
    "print(\"%d %.9f\"%(cnt,x))\n",
    "\n",
    "print(\"\\nsecant method\")\n",
    "cnt = 1\n",
    "x1 = 0.5\n",
    "x2 = 1\n",
    "print(\"0 %.9f\"%(x1))\n",
    "while(abs(real - x2) > 1e-7):\n",
    "    print(\"%d %.9f\"%(cnt,x2))\n",
    "    tmp = x2\n",
    "    cnt += 1\n",
    "    x2 = x2 - f(x2)*(x2-x1)/(f(x2)-f(x1))\n",
    "    x1 = tmp\n",
    "print(\"%d %.9f\"%(cnt,x2))\n",
    "\n",
    "print(\"\\nFalse Position\")\n",
    "cnt = 0\n",
    "x1 = 0.5\n",
    "x2 = 1\n",
    "while(abs(real - x2) > 1e-7 and abs(real - x1) > 1e-7):\n",
    "    print(\"%d %.9f %.9f\"%(cnt,x1,x2))\n",
    "    tmp = x2\n",
    "    cnt += 1\n",
    "    x2 = x2 - f(x2)*(x2-x1)/(f(x2)-f(x1)) #a = x1, b = tmp, c = x2\n",
    "    if(sign(f(x1),f(x2))):\n",
    "        x1 = x2\n",
    "        x2 = tmp\n",
    "print(\"%d %.9f %.9f\"%(cnt,x1,x2))"
   ]
  },
  {
   "cell_type": "markdown",
   "id": "d135ea16",
   "metadata": {},
   "source": [
    "# 2.5 - 17(b)"
   ]
  },
  {
   "cell_type": "code",
   "execution_count": 39,
   "id": "1193ea1e",
   "metadata": {},
   "outputs": [
    {
     "name": "stdout",
     "output_type": "stream",
     "text": [
      "0 1.000000000 3.000000000\n",
      "1 2.000000000 2.750000000\n",
      "2 2.500000000 2.722222222\n",
      "3 2.666666667 2.718750000\n",
      "4 2.708333333 2.718333333\n",
      "5 2.716666667 2.718287037\n",
      "6 2.718055556 2.718282313\n",
      "7 2.718253968 2.718281870\n",
      "8 2.718278770 2.718281832\n",
      "9 2.718281526\n",
      "10 2.718281801\n"
     ]
    }
   ],
   "source": [
    "def pn(x):\n",
    "    ans = 1.0\n",
    "    pac = 1.0\n",
    "    for i in range(1,x+1):\n",
    "        pac *= i\n",
    "        ans += 1/pac\n",
    "    return ans\n",
    "\n",
    "p = []\n",
    "\n",
    "def pen(n):\n",
    "    global p\n",
    "    return p[n] - (p[n+1]-p[n])*(p[n+1]-p[n])/(p[n+2]-2*p[n+1]+p[n])\n",
    "\n",
    "for i in range(11):\n",
    "        p.append(pn(i))\n",
    "        \n",
    "for i in range(11):\n",
    "    if(i<9):\n",
    "        print(\"%d %.9f %.9f\"%(i,p[i],pen(i)))\n",
    "    else:\n",
    "        print(\"%d %.9f\"%(i,p[i]))"
   ]
  },
  {
   "cell_type": "markdown",
   "id": "2ae17cb4",
   "metadata": {},
   "source": [
    "# Steffensen's Method (Algorithm 2.6)"
   ]
  },
  {
   "cell_type": "code",
   "execution_count": 1,
   "id": "14430dc3",
   "metadata": {
    "scrolled": true
   },
   "outputs": [
    {
     "name": "stdout",
     "output_type": "stream",
     "text": [
      "0 1.500000000 1.348399725 1.367376372\n",
      "1 1.365265224 1.365225534 1.365230583\n",
      "2 1.365230013\n"
     ]
    }
   ],
   "source": [
    "import math,sys\n",
    "def gx(x):\n",
    "    return math.sqrt(10/(x+4))\n",
    "real = 1.3652300134141\n",
    "p0 = 1.5\n",
    "cnt = 0\n",
    "while(cnt <= 50):\n",
    "    p1 = gx(p0)\n",
    "    p2 = gx(p1)\n",
    "    print(\"%d %.9f %.9f %.9f\"%(cnt,p0,p1,p2))\n",
    "    cnt += 1\n",
    "    p = p0 - (p1 - p0)*(p1 - p0)/(p2 - 2*p1 + p0)\n",
    "    if(abs(real - p) < 1e-9):\n",
    "        print(\"%d %.9f\"%(cnt,p))\n",
    "        break\n",
    "    p0 = p\n",
    "if(cnt > 50):\n",
    "    print(\"method fail!\")"
   ]
  },
  {
   "cell_type": "markdown",
   "id": "3428624a",
   "metadata": {},
   "source": [
    "# Newton's method using Algorithm 2.7 (Horner's Method)"
   ]
  },
  {
   "cell_type": "code",
   "execution_count": 1,
   "id": "5c4c3218",
   "metadata": {
    "scrolled": true
   },
   "outputs": [
    {
     "name": "stdout",
     "output_type": "stream",
     "text": [
      "계수를 입력해 주세요\n",
      "1 -2 0 -5\n",
      "0 2.000000000\n",
      "1 3.250000000\n",
      "2 2.811036789\n",
      "3 2.697989502\n",
      "4 2.690677153\n"
     ]
    }
   ],
   "source": [
    "print(\"계수를 입력해 주세요\")\n",
    "s = input(\"\")\n",
    "P = s.split()\n",
    "def newton(x):\n",
    "    Q = []\n",
    "    tmp = float(P[0])\n",
    "    Q.append(tmp)\n",
    "    for i in range(1,len(P)):\n",
    "        tmp = float(P[i]) + Q[i-1] * x\n",
    "        if(i == len(P)-1):\n",
    "            break\n",
    "        Q.append(tmp)\n",
    "    #tmp = P(x)\n",
    "    gap = tmp\n",
    "    tmp = Q[0]\n",
    "    for i in range(1,len(Q)):\n",
    "        tmp = Q[i] + tmp * x\n",
    "    #tmp = Q(x) = P'(x)\n",
    "    return gap/tmp\n",
    "\n",
    "real = 2.69064744802861\n",
    "x0 = 2.0\n",
    "cnt = 0\n",
    "while(abs(real - x0) > 1e-4 and cnt <= 50):\n",
    "    print(\"%d %.9f\"%(cnt,x0))\n",
    "    x0 = x0 - newton(x0)\n",
    "    cnt += 1\n",
    "if(cnt > 50):\n",
    "    print(\"newton's method fail\")\n",
    "else:\n",
    "    print(\"%d %.9f\"%(cnt,x0))\n"
   ]
  },
  {
   "cell_type": "markdown",
   "id": "23a6cf3e",
   "metadata": {},
   "source": [
    "# Newton's method 일반화 : 구간 (a,b)에서의 해 모두 구하기 (2.6 - 1)"
   ]
  },
  {
   "cell_type": "code",
   "execution_count": 22,
   "id": "74eabf1e",
   "metadata": {},
   "outputs": [
    {
     "name": "stdout",
     "output_type": "stream",
     "text": [
      "계수를 입력해 주세요\n",
      "1 4 0 -10\n",
      "구간을 입력해 주세요\n",
      "-10 10\n",
      "x = 1.365230013\n"
     ]
    }
   ],
   "source": [
    "import random\n",
    "def newton(P,x,rq):\n",
    "    Q = []\n",
    "    tmp = P[0]\n",
    "    Q.append(tmp)\n",
    "    for i in range(1,len(P)):\n",
    "        tmp = tmp * x + P[i]\n",
    "        if(i == len(P)-1):\n",
    "            break\n",
    "        Q.append(tmp)\n",
    "    if(rq == True):\n",
    "        return Q\n",
    "    #tmp = P(x)\n",
    "    gap = tmp\n",
    "    tmp = Q[0]\n",
    "    for i in range(1,len(Q)):\n",
    "        tmp = tmp * x + Q[i]\n",
    "    #tmp = Q(x) = P'(x)\n",
    "    R = []\n",
    "    R.append(gap/tmp)\n",
    "    return R\n",
    "\n",
    "def Px(P,x): #다항식 P에서 함수값 구하기\n",
    "    tmp = P[0]\n",
    "    for i in range(1,len(P)):\n",
    "        tmp = tmp * x + P[i]\n",
    "    return tmp;\n",
    "\n",
    "def ssign(a,b):\n",
    "    if a>0 and b>0:\n",
    "        return True\n",
    "    if a<0 and b<0:\n",
    "        return True\n",
    "    return False\n",
    "\n",
    "fin = False\n",
    "ax = 0\n",
    "bx = 0\n",
    "\n",
    "def interval(P,a,b):\n",
    "    global fin,ax,bx\n",
    "    if(fin): #구간을 이미 찾아 끝내야 하는 경우\n",
    "        return 0 \n",
    "    \n",
    "    if(ssign(Px(P,a),Px(P,b))): #P(a)와 P(b)의 부호가 같은 경우\n",
    "        if(b - a < 0.1): #해가 없는 경우\n",
    "            return 0\n",
    "        m = (a+b)/2\n",
    "        interval(P,a,m)\n",
    "        interval(P,m,b)\n",
    "    else: #해가 있는 경우\n",
    "        ax = a\n",
    "        bx = b\n",
    "        fin = True #구간 찾음\n",
    "        return 0\n",
    "\n",
    "print(\"계수를 입력해 주세요\")\n",
    "s = input(\"\")\n",
    "L = s.split()\n",
    "for i in range(len(L)):\n",
    "    L[i] = float(L[i])\n",
    "print(\"구간을 입력해 주세요\")\n",
    "s = input(\"\")\n",
    "R = s.split()\n",
    "F = L #원래 함수\n",
    "for i in range(len(R)):\n",
    "    R[i] = float(R[i])\n",
    "\n",
    "ans = [] #후보들\n",
    "\n",
    "while(len(L) >= 2):\n",
    "    fin = False\n",
    "    interval(L,R[0],R[1])\n",
    "    if(fin):\n",
    "        #현재 (ax,bx)에 해가 존재\n",
    "        x0 = random.random()*(bx-ax) + ax\n",
    "        for i in range(15):\n",
    "            T = newton(L,x0,False)\n",
    "            x0 = x0 - T[0]\n",
    "        ans.append(x0)\n",
    "        L = newton(L,x0,True) #Q(x)에서 반복\n",
    "    else:\n",
    "        break\n",
    "for i in ans: #원래 함수에 뉴턴방법 각 후보마다 다시 적용\n",
    "    x0 = i\n",
    "    for j in range(15):\n",
    "        T = newton(F,x0,False)\n",
    "        x0 = x0 - T[0]\n",
    "    print(\"x = %.9f\"%x0)\n",
    "if (len(ans)==0):\n",
    "    print(\"No Solution\")"
   ]
  }
 ],
 "metadata": {
  "kernelspec": {
   "display_name": "Python 3 (ipykernel)",
   "language": "python",
   "name": "python3"
  },
  "language_info": {
   "codemirror_mode": {
    "name": "ipython",
    "version": 3
   },
   "file_extension": ".py",
   "mimetype": "text/x-python",
   "name": "python",
   "nbconvert_exporter": "python",
   "pygments_lexer": "ipython3",
   "version": "3.9.12"
  }
 },
 "nbformat": 4,
 "nbformat_minor": 5
}
