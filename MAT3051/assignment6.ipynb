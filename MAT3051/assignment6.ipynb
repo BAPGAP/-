{
 "cells": [
  {
   "cell_type": "code",
   "execution_count": 36,
   "id": "a52b3f3f",
   "metadata": {},
   "outputs": [
    {
     "name": "stdout",
     "output_type": "stream",
     "text": [
      "[[ 1.  0.  0.  0.]\n",
      " [ 2.  1.  0.  0.]\n",
      " [ 3.  4.  1.  0.]\n",
      " [-1. -3.  0.  1.]]\n",
      "[[  1.   1.   0.   3.]\n",
      " [  0.  -1.  -1.  -5.]\n",
      " [  0.   0.   3.  13.]\n",
      " [  0.   0.   0. -13.]]\n",
      "[[  8.]\n",
      " [ -9.]\n",
      " [ 26.]\n",
      " [-26.]]\n",
      "[[ 3.]\n",
      " [-1.]\n",
      " [ 0.]\n",
      " [ 2.]]\n"
     ]
    }
   ],
   "source": [
    "#Algorithm solving Ax = b by LU분해\n",
    "import numpy\n",
    "n = 4\n",
    "A = [[1,1,0,3],[2,1,-1,1],[3,-1,-1,2],[-1,2,3,-1]]\n",
    "b1 = [8,7,14,-7]\n",
    "(b,c,X,L,U) = (numpy.zeros([n,1]),numpy.zeros([n,1]),numpy.zeros([n,1]),numpy.zeros([n,n]),numpy.zeros([n,n]))\n",
    "for i in range(n):\n",
    "    b[i][0] = b1[i]\n",
    "    L[i][i] = 1\n",
    "def gap(x,y,t,s=0):\n",
    "    T = int((t+1)*t*(t-1)/6)\n",
    "    for i in range(T*(x+1),x+(t+1)*(y-x)+(t+1)*t*(x-y)+T*(n-4*x+3*y)):\n",
    "        s += (L[x][i]*(1-T)+U[x][i]*T)*(X[i][0]*T+c[i][0]*t*(t+1)*(2-t)/2+U[i][y]*(1+t*(t+1)*(2*t-5)/6))\n",
    "    return s \n",
    "for i in range(n):\n",
    "    for j in range(i,n):\n",
    "        U[i][j] = (A[i][j] - gap(i,j,-1))/L[i][i] #A[i][j] = gap(i,j,-1) + L[i][i]*U[i][j]\n",
    "    for j in range(i+1,n):\n",
    "        L[j][i] = (A[j][i] - gap(j,i,0))/U[i][i]\n",
    "for i in range(n): #first Lc = b -> c\n",
    "    c[i][0] = (b[i][0] - gap(i,0,1))/L[i][i]\n",
    "for i in range(n): #second Ux = c -> x\n",
    "    X[n-1-i][0] = (c[n-1-i][0] - gap(n-1-i,0,2))/U[n-1-i][n-1-i]\n",
    "    \n",
    "print(L)\n",
    "print(U)\n",
    "print(c)\n",
    "print(X)"
   ]
  },
  {
   "cell_type": "code",
   "execution_count": null,
   "id": "b9657983",
   "metadata": {},
   "outputs": [],
   "source": []
  }
 ],
 "metadata": {
  "kernelspec": {
   "display_name": "Python 3 (ipykernel)",
   "language": "python",
   "name": "python3"
  },
  "language_info": {
   "codemirror_mode": {
    "name": "ipython",
    "version": 3
   },
   "file_extension": ".py",
   "mimetype": "text/x-python",
   "name": "python",
   "nbconvert_exporter": "python",
   "pygments_lexer": "ipython3",
   "version": "3.9.13"
  }
 },
 "nbformat": 4,
 "nbformat_minor": 5
}
